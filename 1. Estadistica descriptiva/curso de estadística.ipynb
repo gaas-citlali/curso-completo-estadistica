{
 "cells": [
  {
   "cell_type": "code",
   "execution_count": 1,
   "id": "a5b477a6",
   "metadata": {},
   "outputs": [],
   "source": [
    "import pandas as pd\n",
    "import numpy as np\n",
    "import matplotlib.pyplot as plt"
   ]
  },
  {
   "cell_type": "code",
   "execution_count": 2,
   "id": "180112f2",
   "metadata": {},
   "outputs": [
    {
     "data": {
      "text/html": [
       "<div>\n",
       "<style scoped>\n",
       "    .dataframe tbody tr th:only-of-type {\n",
       "        vertical-align: middle;\n",
       "    }\n",
       "\n",
       "    .dataframe tbody tr th {\n",
       "        vertical-align: top;\n",
       "    }\n",
       "\n",
       "    .dataframe thead th {\n",
       "        text-align: right;\n",
       "    }\n",
       "</style>\n",
       "<table border=\"1\" class=\"dataframe\">\n",
       "  <thead>\n",
       "    <tr style=\"text-align: right;\">\n",
       "      <th></th>\n",
       "      <th>0</th>\n",
       "      <th>1</th>\n",
       "      <th>2</th>\n",
       "      <th>3</th>\n",
       "      <th>4</th>\n",
       "      <th>5</th>\n",
       "    </tr>\n",
       "  </thead>\n",
       "  <tbody>\n",
       "    <tr>\n",
       "      <th>0</th>\n",
       "      <td>xi</td>\n",
       "      <td>6</td>\n",
       "      <td>7</td>\n",
       "      <td>8</td>\n",
       "      <td>9</td>\n",
       "      <td>10</td>\n",
       "    </tr>\n",
       "    <tr>\n",
       "      <th>1</th>\n",
       "      <td>ni</td>\n",
       "      <td>3</td>\n",
       "      <td>16</td>\n",
       "      <td>20</td>\n",
       "      <td>10</td>\n",
       "      <td>1</td>\n",
       "    </tr>\n",
       "  </tbody>\n",
       "</table>\n",
       "</div>"
      ],
      "text/plain": [
       "    0  1   2   3   4   5\n",
       "0  xi  6   7   8   9  10\n",
       "1  ni  3  16  20  10   1"
      ]
     },
     "execution_count": 2,
     "metadata": {},
     "output_type": "execute_result"
    }
   ],
   "source": [
    "df_1 = pd.read_excel('1.+Datos+agrupados+con+frecuencias.xlsx',header=None)\n",
    "df_1"
   ]
  },
  {
   "cell_type": "code",
   "execution_count": 3,
   "id": "8c3269f4",
   "metadata": {},
   "outputs": [
    {
     "data": {
      "text/html": [
       "<div>\n",
       "<style scoped>\n",
       "    .dataframe tbody tr th:only-of-type {\n",
       "        vertical-align: middle;\n",
       "    }\n",
       "\n",
       "    .dataframe tbody tr th {\n",
       "        vertical-align: top;\n",
       "    }\n",
       "\n",
       "    .dataframe thead th {\n",
       "        text-align: right;\n",
       "    }\n",
       "</style>\n",
       "<table border=\"1\" class=\"dataframe\">\n",
       "  <thead>\n",
       "    <tr style=\"text-align: right;\">\n",
       "      <th></th>\n",
       "      <th>xi</th>\n",
       "      <th>ni</th>\n",
       "    </tr>\n",
       "  </thead>\n",
       "  <tbody>\n",
       "    <tr>\n",
       "      <th>0</th>\n",
       "      <td>61.5</td>\n",
       "      <td>5</td>\n",
       "    </tr>\n",
       "    <tr>\n",
       "      <th>1</th>\n",
       "      <td>64.5</td>\n",
       "      <td>18</td>\n",
       "    </tr>\n",
       "    <tr>\n",
       "      <th>2</th>\n",
       "      <td>67.5</td>\n",
       "      <td>42</td>\n",
       "    </tr>\n",
       "    <tr>\n",
       "      <th>3</th>\n",
       "      <td>70.5</td>\n",
       "      <td>27</td>\n",
       "    </tr>\n",
       "    <tr>\n",
       "      <th>4</th>\n",
       "      <td>73.5</td>\n",
       "      <td>8</td>\n",
       "    </tr>\n",
       "  </tbody>\n",
       "</table>\n",
       "</div>"
      ],
      "text/plain": [
       "     xi  ni\n",
       "0  61.5   5\n",
       "1  64.5  18\n",
       "2  67.5  42\n",
       "3  70.5  27\n",
       "4  73.5   8"
      ]
     },
     "execution_count": 3,
     "metadata": {},
     "output_type": "execute_result"
    }
   ],
   "source": [
    "df_2 = pd.read_excel('2.+Datos+agrupados+por+intervalos.xlsx')\n",
    "df_2"
   ]
  },
  {
   "cell_type": "code",
   "execution_count": 4,
   "id": "df64c2e8",
   "metadata": {},
   "outputs": [
    {
     "name": "stdout",
     "output_type": "stream",
     "text": [
      "[[3 6 6 8 2 5 7 3 8 1 5 6 4 4 2 5 6 2 9 4 2 3 7 7 7]]\n",
      "[[1 2 2 2 2 3 3 3 4 4 4 5 5 5 6 6 6 6 7 7 7 7 8 8 9]]\n",
      "25\n"
     ]
    }
   ],
   "source": [
    "df_3 = pd.read_excel('3.+Ejemplo+-+evaluaciones+25+clientes.xlsx', header=None)\n",
    "\n",
    "arreglo_3 = df_3.to_numpy()\n",
    "\n",
    "arreglo_3_ordenado = np.sort(arreglo_3)\n",
    "print(arreglo_3)\n",
    "print(arreglo_3_ordenado)\n",
    "print(arreglo_3_ordenado.size)"
   ]
  },
  {
   "cell_type": "code",
   "execution_count": 5,
   "id": "c6341610",
   "metadata": {},
   "outputs": [
    {
     "name": "stdout",
     "output_type": "stream",
     "text": [
      "[[90 94 53 68 79 84 87 72 70 69 65 89 85 83 72]]\n",
      "[[53 65 68 69 70 72 72 79 83 84 85 87 89 90 94]]\n",
      "15\n"
     ]
    },
    {
     "data": {
      "image/png": "[encoded data removed]",
      "text/plain": [
       "<Figure size 640x480 with 1 Axes>"
      ]
     },
     "metadata": {},
     "output_type": "display_data"
    }
   ],
   "source": [
    "df_4 = pd.read_excel('4.+Ejemplo+-+calificaciones+de+15+alumnos+en+Matematicas.xlsx', header=None)\n",
    "\n",
    "\n",
    "numpy_array = df_4.to_numpy()\n",
    "arreglo_4_ordenado = np.sort(numpy_array)\n",
    "\n",
    "# Aplanar el arreglo\n",
    "flattened_array = numpy_array.flatten()\n",
    "\n",
    "# Crear un boxplot\n",
    "plt.boxplot(flattened_array)\n",
    "\n",
    "print(numpy_array)\n",
    "print(arreglo_4_ordenado)\n",
    "print(arreglo_4_ordenado.size)\n",
    "plt.show()"
   ]
  },
  {
   "cell_type": "code",
   "execution_count": 6,
   "id": "bf55a1d1",
   "metadata": {},
   "outputs": [
    {
     "name": "stdout",
     "output_type": "stream",
     "text": [
      "[[283.6]\n",
      " [245.5]\n",
      " [226.4]\n",
      " [221.4]\n",
      " [211.4]\n",
      " [200.5]\n",
      " [269.4]\n",
      " [239.2]\n",
      " [225.5]\n",
      " [217.8]\n",
      " [208.5]\n",
      " [198.5]\n",
      " [262.2]\n",
      " [233.7]\n",
      " [224.1]\n",
      " [217.2]\n",
      " [204.9]\n",
      " [182.4]\n",
      " [261.1]\n",
      " [230.3]\n",
      " [223.6]\n",
      " [216.9]\n",
      " [202.7]\n",
      " [111. ]\n",
      " [246.7]\n",
      " [227.9]\n",
      " [222.3]\n",
      " [211.6]\n",
      " [202.4]]\n",
      "[[283.6]\n",
      " [245.5]\n",
      " [226.4]\n",
      " [221.4]\n",
      " [211.4]\n",
      " [200.5]\n",
      " [269.4]\n",
      " [239.2]\n",
      " [225.5]\n",
      " [217.8]\n",
      " [208.5]\n",
      " [198.5]\n",
      " [262.2]\n",
      " [233.7]\n",
      " [224.1]\n",
      " [217.2]\n",
      " [204.9]\n",
      " [182.4]\n",
      " [261.1]\n",
      " [230.3]\n",
      " [223.6]\n",
      " [216.9]\n",
      " [202.7]\n",
      " [111. ]\n",
      " [246.7]\n",
      " [227.9]\n",
      " [222.3]\n",
      " [211.6]\n",
      " [202.4]]\n",
      "29\n"
     ]
    },
    {
     "data": {
      "image/png": "[encoded data removed]",
      "text/plain": [
       "<Figure size 640x480 with 1 Axes>"
      ]
     },
     "metadata": {},
     "output_type": "display_data"
    }
   ],
   "source": [
    "df_5 = pd.read_excel('5.+Ejemplo+-+salto+de+esqui+masculino.xlsx', header= None)\n",
    "arreglo_5 = df_5.to_numpy()\n",
    "arreglo_5_ordenado = np.sort(arreglo_5)\n",
    "arreglo_5_aplanado = arreglo_5.flatten()\n",
    "\n",
    "plt.boxplot(arreglo_5_aplanado)\n",
    "\n",
    "\n",
    "print(arreglo_5)\n",
    "print(arreglo_5_ordenado)\n",
    "print(arreglo_5_ordenado.size)\n",
    "plt.show()"
   ]
  },
  {
   "cell_type": "code",
   "execution_count": 7,
   "id": "8ca6b732",
   "metadata": {},
   "outputs": [
    {
     "data": {
      "text/html": [
       "<div>\n",
       "<style scoped>\n",
       "    .dataframe tbody tr th:only-of-type {\n",
       "        vertical-align: middle;\n",
       "    }\n",
       "\n",
       "    .dataframe tbody tr th {\n",
       "        vertical-align: top;\n",
       "    }\n",
       "\n",
       "    .dataframe thead th {\n",
       "        text-align: right;\n",
       "    }\n",
       "</style>\n",
       "<table border=\"1\" class=\"dataframe\">\n",
       "  <thead>\n",
       "    <tr style=\"text-align: right;\">\n",
       "      <th></th>\n",
       "      <th>0</th>\n",
       "    </tr>\n",
       "  </thead>\n",
       "  <tbody>\n",
       "    <tr>\n",
       "      <th>0</th>\n",
       "      <td>60</td>\n",
       "    </tr>\n",
       "    <tr>\n",
       "      <th>1</th>\n",
       "      <td>66</td>\n",
       "    </tr>\n",
       "    <tr>\n",
       "      <th>2</th>\n",
       "      <td>77</td>\n",
       "    </tr>\n",
       "    <tr>\n",
       "      <th>3</th>\n",
       "      <td>70</td>\n",
       "    </tr>\n",
       "    <tr>\n",
       "      <th>4</th>\n",
       "      <td>66</td>\n",
       "    </tr>\n",
       "    <tr>\n",
       "      <th>...</th>\n",
       "      <td>...</td>\n",
       "    </tr>\n",
       "    <tr>\n",
       "      <th>75</th>\n",
       "      <td>70</td>\n",
       "    </tr>\n",
       "    <tr>\n",
       "      <th>76</th>\n",
       "      <td>66</td>\n",
       "    </tr>\n",
       "    <tr>\n",
       "      <th>77</th>\n",
       "      <td>62</td>\n",
       "    </tr>\n",
       "    <tr>\n",
       "      <th>78</th>\n",
       "      <td>63</td>\n",
       "    </tr>\n",
       "    <tr>\n",
       "      <th>79</th>\n",
       "      <td>66</td>\n",
       "    </tr>\n",
       "  </tbody>\n",
       "</table>\n",
       "<p>80 rows × 1 columns</p>\n",
       "</div>"
      ],
      "text/plain": [
       "     0\n",
       "0   60\n",
       "1   66\n",
       "2   77\n",
       "3   70\n",
       "4   66\n",
       "..  ..\n",
       "75  70\n",
       "76  66\n",
       "77  62\n",
       "78  63\n",
       "79  66\n",
       "\n",
       "[80 rows x 1 columns]"
      ]
     },
     "execution_count": 7,
     "metadata": {},
     "output_type": "execute_result"
    }
   ],
   "source": [
    "df_6 = pd.read_excel('5.+Ejercicio+-+pesos+de+80+personas.xlsx', header=None)\n",
    "df_6"
   ]
  },
  {
   "cell_type": "code",
   "execution_count": 8,
   "id": "ed6b904e",
   "metadata": {},
   "outputs": [
    {
     "data": {
      "text/html": [
       "<div>\n",
       "<style scoped>\n",
       "    .dataframe tbody tr th:only-of-type {\n",
       "        vertical-align: middle;\n",
       "    }\n",
       "\n",
       "    .dataframe tbody tr th {\n",
       "        vertical-align: top;\n",
       "    }\n",
       "\n",
       "    .dataframe thead th {\n",
       "        text-align: right;\n",
       "    }\n",
       "</style>\n",
       "<table border=\"1\" class=\"dataframe\">\n",
       "  <thead>\n",
       "    <tr style=\"text-align: right;\">\n",
       "      <th></th>\n",
       "      <th>Pais</th>\n",
       "      <th>IVA</th>\n",
       "    </tr>\n",
       "  </thead>\n",
       "  <tbody>\n",
       "    <tr>\n",
       "      <th>0</th>\n",
       "      <td>España</td>\n",
       "      <td>0.16</td>\n",
       "    </tr>\n",
       "    <tr>\n",
       "      <th>1</th>\n",
       "      <td>Italia</td>\n",
       "      <td>0.20</td>\n",
       "    </tr>\n",
       "    <tr>\n",
       "      <th>2</th>\n",
       "      <td>Bélgica</td>\n",
       "      <td>0.06</td>\n",
       "    </tr>\n",
       "    <tr>\n",
       "      <th>3</th>\n",
       "      <td>Holanda</td>\n",
       "      <td>0.06</td>\n",
       "    </tr>\n",
       "    <tr>\n",
       "      <th>4</th>\n",
       "      <td>Alemania</td>\n",
       "      <td>0.07</td>\n",
       "    </tr>\n",
       "    <tr>\n",
       "      <th>5</th>\n",
       "      <td>Portugal</td>\n",
       "      <td>0.17</td>\n",
       "    </tr>\n",
       "    <tr>\n",
       "      <th>6</th>\n",
       "      <td>Luxemburgo</td>\n",
       "      <td>0.06</td>\n",
       "    </tr>\n",
       "    <tr>\n",
       "      <th>7</th>\n",
       "      <td>Finlandia</td>\n",
       "      <td>0.22</td>\n",
       "    </tr>\n",
       "  </tbody>\n",
       "</table>\n",
       "</div>"
      ],
      "text/plain": [
       "        Pais    IVA\n",
       "0      España  0.16\n",
       "1      Italia  0.20\n",
       "2     Bélgica  0.06\n",
       "3     Holanda  0.06\n",
       "4   Alemania   0.07\n",
       "5    Portugal  0.17\n",
       "6  Luxemburgo  0.06\n",
       "7   Finlandia  0.22"
      ]
     },
     "execution_count": 8,
     "metadata": {},
     "output_type": "execute_result"
    }
   ],
   "source": [
    "df_7 = pd.read_excel('7.+Ejercicio+-+IVA+de+obras+de+arte.xlsx')\n",
    "df_7"
   ]
  },
  {
   "cell_type": "code",
   "execution_count": null,
   "id": "e80dba95",
   "metadata": {},
   "outputs": [],
   "source": []
  }
 ],
 "metadata": {
  "kernelspec": {
   "display_name": "Python 3 (ipykernel)",
   "language": "python",
   "name": "python3"
  },
  "language_info": {
   "codemirror_mode": {
    "name": "ipython",
    "version": 3
   },
   "file_extension": ".py",
   "mimetype": "text/x-python",
   "name": "python",
   "nbconvert_exporter": "python",
   "pygments_lexer": "ipython3",
   "version": "3.10.9"
  }
 },
 "nbformat": 4,
 "nbformat_minor": 5
}
